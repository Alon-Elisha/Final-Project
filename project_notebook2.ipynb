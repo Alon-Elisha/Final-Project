{
 "cells": [
  {
   "cell_type": "code",
   "execution_count": null,
   "metadata": {},
   "outputs": [],
   "source": [
    "# 1\n",
    "# there is a built up fucntion in python for this quastion."
   ]
  },
  {
   "cell_type": "code",
   "execution_count": null,
   "metadata": {},
   "outputs": [],
   "source": []
  },
  {
   "cell_type": "code",
   "execution_count": 1,
   "metadata": {},
   "outputs": [],
   "source": [
    "import pandas as pd"
   ]
  },
  {
   "cell_type": "code",
   "execution_count": 2,
   "metadata": {},
   "outputs": [],
   "source": [
    "cast = pd.read_csv('C:/Users/Alon Elisha/Downloads/cast.csv') "
   ]
  },
  {
   "cell_type": "code",
   "execution_count": 3,
   "metadata": {},
   "outputs": [
    {
     "data": {
      "text/html": [
       "<div>\n",
       "<style scoped>\n",
       "    .dataframe tbody tr th:only-of-type {\n",
       "        vertical-align: middle;\n",
       "    }\n",
       "\n",
       "    .dataframe tbody tr th {\n",
       "        vertical-align: top;\n",
       "    }\n",
       "\n",
       "    .dataframe thead th {\n",
       "        text-align: right;\n",
       "    }\n",
       "</style>\n",
       "<table border=\"1\" class=\"dataframe\">\n",
       "  <thead>\n",
       "    <tr style=\"text-align: right;\">\n",
       "      <th></th>\n",
       "      <th>title</th>\n",
       "      <th>year</th>\n",
       "      <th>name</th>\n",
       "      <th>type</th>\n",
       "      <th>character</th>\n",
       "      <th>n</th>\n",
       "    </tr>\n",
       "  </thead>\n",
       "  <tbody>\n",
       "    <tr>\n",
       "      <th>0</th>\n",
       "      <td>Suuri illusioni</td>\n",
       "      <td>1985</td>\n",
       "      <td>Homo $</td>\n",
       "      <td>actor</td>\n",
       "      <td>Guests</td>\n",
       "      <td>22.0</td>\n",
       "    </tr>\n",
       "    <tr>\n",
       "      <th>1</th>\n",
       "      <td>Gangsta Rap: The Glockumentary</td>\n",
       "      <td>2007</td>\n",
       "      <td>Too $hort</td>\n",
       "      <td>actor</td>\n",
       "      <td>Himself</td>\n",
       "      <td>NaN</td>\n",
       "    </tr>\n",
       "    <tr>\n",
       "      <th>2</th>\n",
       "      <td>Menace II Society</td>\n",
       "      <td>1993</td>\n",
       "      <td>Too $hort</td>\n",
       "      <td>actor</td>\n",
       "      <td>Lew-Loc</td>\n",
       "      <td>27.0</td>\n",
       "    </tr>\n",
       "    <tr>\n",
       "      <th>3</th>\n",
       "      <td>Porndogs: The Adventures of Sadie</td>\n",
       "      <td>2009</td>\n",
       "      <td>Too $hort</td>\n",
       "      <td>actor</td>\n",
       "      <td>Bosco</td>\n",
       "      <td>3.0</td>\n",
       "    </tr>\n",
       "    <tr>\n",
       "      <th>4</th>\n",
       "      <td>Stop Pepper Palmer</td>\n",
       "      <td>2014</td>\n",
       "      <td>Too $hort</td>\n",
       "      <td>actor</td>\n",
       "      <td>Himself</td>\n",
       "      <td>NaN</td>\n",
       "    </tr>\n",
       "  </tbody>\n",
       "</table>\n",
       "</div>"
      ],
      "text/plain": [
       "                               title  year       name   type character     n\n",
       "0                    Suuri illusioni  1985     Homo $  actor    Guests  22.0\n",
       "1     Gangsta Rap: The Glockumentary  2007  Too $hort  actor   Himself   NaN\n",
       "2                  Menace II Society  1993  Too $hort  actor   Lew-Loc  27.0\n",
       "3  Porndogs: The Adventures of Sadie  2009  Too $hort  actor     Bosco   3.0\n",
       "4                 Stop Pepper Palmer  2014  Too $hort  actor   Himself   NaN"
      ]
     },
     "execution_count": 3,
     "metadata": {},
     "output_type": "execute_result"
    }
   ],
   "source": [
    "cast.head()"
   ]
  },
  {
   "cell_type": "code",
   "execution_count": 8,
   "metadata": {},
   "outputs": [
    {
     "name": "stdout",
     "output_type": "stream",
     "text": [
      "there are 17  movies with the title of Hamlet\n"
     ]
    }
   ],
   "source": [
    "#1\n",
    "one = cast.groupby('title') \n",
    "one1 = one.get_group('Hamlet')\n",
    "one2 = one1.groupby('year') # orgenize the titles in the same year together, because they are the same movie.\n",
    "print(\"there are\", len(one2), \" movies with the title of Hamlet\")"
   ]
  },
  {
   "cell_type": "code",
   "execution_count": 16,
   "metadata": {},
   "outputs": [
    {
     "data": {
      "text/html": [
       "<div>\n",
       "<style scoped>\n",
       "    .dataframe tbody tr th:only-of-type {\n",
       "        vertical-align: middle;\n",
       "    }\n",
       "\n",
       "    .dataframe tbody tr th {\n",
       "        vertical-align: top;\n",
       "    }\n",
       "\n",
       "    .dataframe thead th {\n",
       "        text-align: right;\n",
       "    }\n",
       "</style>\n",
       "<table border=\"1\" class=\"dataframe\">\n",
       "  <thead>\n",
       "    <tr style=\"text-align: right;\">\n",
       "      <th></th>\n",
       "      <th>title</th>\n",
       "      <th>year</th>\n",
       "      <th>name</th>\n",
       "      <th>type</th>\n",
       "      <th>character</th>\n",
       "      <th>n</th>\n",
       "    </tr>\n",
       "  </thead>\n",
       "  <tbody>\n",
       "    <tr>\n",
       "      <th>1312766</th>\n",
       "      <td>Treasure Island</td>\n",
       "      <td>1918</td>\n",
       "      <td>Herschel Mayall</td>\n",
       "      <td>actor</td>\n",
       "      <td>Prologue Player</td>\n",
       "      <td>NaN</td>\n",
       "    </tr>\n",
       "    <tr>\n",
       "      <th>3280557</th>\n",
       "      <td>Treasure Island</td>\n",
       "      <td>1918</td>\n",
       "      <td>Eleanor Washington</td>\n",
       "      <td>actress</td>\n",
       "      <td>Prologue Player</td>\n",
       "      <td>NaN</td>\n",
       "    </tr>\n",
       "    <tr>\n",
       "      <th>3046750</th>\n",
       "      <td>Treasure Island</td>\n",
       "      <td>1918</td>\n",
       "      <td>Violet Radcliffe</td>\n",
       "      <td>actress</td>\n",
       "      <td>Long John Silver</td>\n",
       "      <td>3.0</td>\n",
       "    </tr>\n",
       "    <tr>\n",
       "      <th>1167783</th>\n",
       "      <td>Treasure Island</td>\n",
       "      <td>1918</td>\n",
       "      <td>Raymond Lee</td>\n",
       "      <td>actor</td>\n",
       "      <td>Bit Role</td>\n",
       "      <td>NaN</td>\n",
       "    </tr>\n",
       "    <tr>\n",
       "      <th>1195421</th>\n",
       "      <td>Treasure Island</td>\n",
       "      <td>1918</td>\n",
       "      <td>Elmo Lincoln</td>\n",
       "      <td>actor</td>\n",
       "      <td>Prologue Player</td>\n",
       "      <td>NaN</td>\n",
       "    </tr>\n",
       "    <tr>\n",
       "      <th>...</th>\n",
       "      <td>...</td>\n",
       "      <td>...</td>\n",
       "      <td>...</td>\n",
       "      <td>...</td>\n",
       "      <td>...</td>\n",
       "      <td>...</td>\n",
       "    </tr>\n",
       "    <tr>\n",
       "      <th>1663860</th>\n",
       "      <td>Treasure Island</td>\n",
       "      <td>1999</td>\n",
       "      <td>Victor Raider-Wexler</td>\n",
       "      <td>actor</td>\n",
       "      <td>Samowitz</td>\n",
       "      <td>10.0</td>\n",
       "    </tr>\n",
       "    <tr>\n",
       "      <th>1731182</th>\n",
       "      <td>Treasure Island</td>\n",
       "      <td>1999</td>\n",
       "      <td>Scot Thomas Robinson</td>\n",
       "      <td>actor</td>\n",
       "      <td>Jimmy</td>\n",
       "      <td>11.0</td>\n",
       "    </tr>\n",
       "    <tr>\n",
       "      <th>1813707</th>\n",
       "      <td>Treasure Island</td>\n",
       "      <td>1999</td>\n",
       "      <td>Richard Schave</td>\n",
       "      <td>actor</td>\n",
       "      <td>Man</td>\n",
       "      <td>21.0</td>\n",
       "    </tr>\n",
       "    <tr>\n",
       "      <th>2710458</th>\n",
       "      <td>Treasure Island</td>\n",
       "      <td>1999</td>\n",
       "      <td>Stephanie Ittleson</td>\n",
       "      <td>actress</td>\n",
       "      <td>Stella</td>\n",
       "      <td>7.0</td>\n",
       "    </tr>\n",
       "    <tr>\n",
       "      <th>815338</th>\n",
       "      <td>Treasure Island</td>\n",
       "      <td>1999</td>\n",
       "      <td>Rio Hackford</td>\n",
       "      <td>actor</td>\n",
       "      <td>Hans</td>\n",
       "      <td>23.0</td>\n",
       "    </tr>\n",
       "  </tbody>\n",
       "</table>\n",
       "<p>187 rows × 6 columns</p>\n",
       "</div>"
      ],
      "text/plain": [
       "                   title  year                  name     type  \\\n",
       "1312766  Treasure Island  1918       Herschel Mayall    actor   \n",
       "3280557  Treasure Island  1918    Eleanor Washington  actress   \n",
       "3046750  Treasure Island  1918      Violet Radcliffe  actress   \n",
       "1167783  Treasure Island  1918           Raymond Lee    actor   \n",
       "1195421  Treasure Island  1918          Elmo Lincoln    actor   \n",
       "...                  ...   ...                   ...      ...   \n",
       "1663860  Treasure Island  1999  Victor Raider-Wexler    actor   \n",
       "1731182  Treasure Island  1999  Scot Thomas Robinson    actor   \n",
       "1813707  Treasure Island  1999        Richard Schave    actor   \n",
       "2710458  Treasure Island  1999    Stephanie Ittleson  actress   \n",
       "815338   Treasure Island  1999          Rio Hackford    actor   \n",
       "\n",
       "                character     n  \n",
       "1312766   Prologue Player   NaN  \n",
       "3280557   Prologue Player   NaN  \n",
       "3046750  Long John Silver   3.0  \n",
       "1167783          Bit Role   NaN  \n",
       "1195421   Prologue Player   NaN  \n",
       "...                   ...   ...  \n",
       "1663860          Samowitz  10.0  \n",
       "1731182             Jimmy  11.0  \n",
       "1813707               Man  21.0  \n",
       "2710458            Stella   7.0  \n",
       "815338               Hans  23.0  \n",
       "\n",
       "[187 rows x 6 columns]"
      ]
     },
     "execution_count": 16,
     "metadata": {},
     "output_type": "execute_result"
    }
   ],
   "source": [
    "#2\n",
    "# there may be a mistake on how I interperted the movies. maybe a movie title in each year is considered, the same movie.\n",
    "s3 = cast.groupby('title') # create groups of titles.\n",
    "s4 = s3.get_group('Treasure Island') # get the group of all the 'TREASURE ISLAND' titles.\n",
    "s5 = s4.sort_values('year') # sort it by year(# check description of the function).\n",
    "s5"
   ]
  },
  {
   "cell_type": "code",
   "execution_count": 17,
   "metadata": {},
   "outputs": [
    {
     "data": {
      "text/plain": [
       "9"
      ]
     },
     "execution_count": 17,
     "metadata": {},
     "output_type": "execute_result"
    }
   ],
   "source": [
    "#3\n",
    "three = cast.groupby('title') # create groups of titles.\n",
    "three1 = s3.get_group('Hamlet') # get Hamlet group of titles.\n",
    "three3 = three1.loc[three1['year'] == 1921] # take the rows that has 1921 value in year.\n",
    "len(three3) # print the number of rows."
   ]
  },
  {
   "cell_type": "code",
   "execution_count": 18,
   "metadata": {},
   "outputs": [
    {
     "name": "stdout",
     "output_type": "stream",
     "text": [
      "in the years 1910  and 1919  there were 28  Hamlet movies\n",
      "in the years 1920  and 1929  there were 9  Hamlet movies\n",
      "in the years 1930  and 1939  there were 0  Hamlet movies\n",
      "in the years 1940  and 1949  there were 25  Hamlet movies\n",
      "in the years 1950  and 1959  there were 1  Hamlet movies\n",
      "in the years 1960  and 1969  there were 57  Hamlet movies\n",
      "in the years 1970  and 1979  there were 19  Hamlet movies\n",
      "in the years 1980  and 1989  there were 3  Hamlet movies\n",
      "in the years 1990  and 1999  there were 84  Hamlet movies\n",
      "in the years 2000  and 2009  there were 55  Hamlet movies\n",
      "in the years 2010  and 2019  there were 18  Hamlet movies\n"
     ]
    }
   ],
   "source": [
    "#4\n",
    "four = cast.groupby('title') \n",
    "four1 = four.get_group('Hamlet')\n",
    "lower_year = 1910 # we use them to check each decade\n",
    "upper_year = 1919# we use them to check each decade\n",
    "# we'll check for each decade until this day, meaning until the decade of 2020, including.\n",
    "# by checking the hamlet title gruop, we saw that the earliest HAMLET movie was in 1910, and the latest in 2015.\n",
    "# so we'll check each decade between them, including the ends.\n",
    "for i in range(11):\n",
    "    the_movies = four1.loc[(four1['year'] >= lower_year) & (four1['year'] <= upper_year)] # in panda, to add a contition, we use &, not &&, or 'and'\n",
    "    print(\"in the years\",lower_year, \" and\", upper_year,\" there were\", len(the_movies), \" Hamlet movies\")\n",
    "    lower_year = lower_year + 10\n",
    "    upper_year = upper_year + 10"
   ]
  },
  {
   "cell_type": "code",
   "execution_count": 19,
   "metadata": {},
   "outputs": [
    {
     "name": "stdout",
     "output_type": "stream",
     "text": [
      "in the year 1950 there were 604  leading roles for actors\n",
      "in the year 1950 there were 271  leading roles for actresses\n",
      "\n",
      "in the year 1951 there were 633  leading roles for actors\n",
      "in the year 1951 there were 272  leading roles for actresses\n",
      "\n",
      "in the year 1952 there were 591  leading roles for actors\n",
      "in the year 1952 there were 284  leading roles for actresses\n",
      "\n",
      "in the year 1953 there were 634  leading roles for actors\n",
      "in the year 1953 there were 290  leading roles for actresses\n",
      "\n",
      "in the year 1954 there were 626  leading roles for actors\n",
      "in the year 1954 there were 298  leading roles for actresses\n",
      "\n",
      "in the year 1955 there were 606  leading roles for actors\n",
      "in the year 1955 there were 264  leading roles for actresses\n",
      "\n",
      "in the year 1956 there were 614  leading roles for actors\n",
      "in the year 1956 there were 288  leading roles for actresses\n",
      "\n",
      "in the year 1957 there were 708  leading roles for actors\n",
      "in the year 1957 there were 284  leading roles for actresses\n",
      "\n",
      "in the year 1958 there were 694  leading roles for actors\n",
      "in the year 1958 there were 275  leading roles for actresses\n",
      "\n",
      "in the year 1959 there were 678  leading roles for actors\n",
      "in the year 1959 there were 287  leading roles for actresses\n",
      "\n"
     ]
    }
   ],
   "source": [
    "#5\n",
    "five = cast.dropna(subset=['n'])\n",
    "# create a series with movies in the 1950 decade and offer a leading role (n = 1). \n",
    "five1 = five.loc[(five['year'] >= 1950) & (five['year'] <= 1959) & (five['n'] == 1)]\n",
    "year = 1950\n",
    "sum = 0\n",
    "# moving between each year\n",
    "for i in range(10):\n",
    "    # read the description of loc\n",
    "    lead_actors = five1.loc[(five1['year'] == year) & (five1['type'] == 'actor') ]\n",
    "    lead_actress = five1.loc[(five1['year'] == year) & (five1['type'] == 'actress') ]\n",
    "    print(\"in the year\", year, \"there were\", len(lead_actors), \" leading roles for actors\")\n",
    "    print(\"in the year\", year, \"there were\", len(lead_actress), \" leading roles for actresses\")\n",
    "    print()\n",
    "    year = year + 1\n",
    "    sum = sum + len(lead_actors) + len(lead_actress)\n",
    "    "
   ]
  },
  {
   "cell_type": "code",
   "execution_count": 20,
   "metadata": {},
   "outputs": [
    {
     "name": "stdout",
     "output_type": "stream",
     "text": [
      "Mohanlal\n",
      "Mammootty\n",
      "Akshay Kumar\n",
      "Jayaram\n",
      "Andy Lau\n",
      "Ajay Devgn\n",
      "Eric Roberts\n",
      "Amitabh Bachchan\n",
      "Nagarjuna Akkineni\n",
      "Dilip\n"
     ]
    }
   ],
   "source": [
    "#6\n",
    "six = cast.dropna(subset=['n'])\n",
    "# create a series with movies in the 1950 decade and offer a leading role (n = 1). \n",
    "six1 = six.loc[(five['year'] >= 1990) & (five['n'] == 1)]\n",
    "six2 = six1.groupby('name')\n",
    "#for a,i in six2:\n",
    "#    print(a)\n",
    "#    print(i)\n",
    "#size fuction in groupby gives a series with the numebr of rows in each group and the name of the group\n",
    "six3 = six2.size()\n",
    "# sort_values will put the series in a desceinding order with (ascending = False).\n",
    "six4 = six3.sort_values(ascending = False)\n",
    "# at this phase,six4 is a series. six4 has the names as the indexes, and the value of rows as the value in each index.\n",
    "# for that, we'll take the indexes and put them in a new\n",
    "six5 = six4.head(10).index # index is not callable\n",
    "for name in six5:\n",
    "    print(name)"
   ]
  },
  {
   "cell_type": "code",
   "execution_count": 21,
   "metadata": {},
   "outputs": [
    {
     "name": "stdout",
     "output_type": "stream",
     "text": [
      "1979\n",
      "1980\n",
      "1981\n",
      "1982\n",
      "1983\n",
      "1984\n",
      "1985\n",
      "1986\n",
      "1992\n",
      "1996\n",
      "1998\n",
      "1999\n",
      "2001\n",
      "2002\n",
      "2005\n",
      "2015\n"
     ]
    }
   ],
   "source": [
    "# 7 \n",
    "seven = cast.dropna(subset=['n'])\n",
    "seven1 = seven.groupby('name')\n",
    "the_group = seven1.get_group('Frank Oz')\n",
    "sz = the_group.groupby('year')\n",
    "size_group = sz.size()\n",
    "new_size_group = size_group.index\n",
    "new_size_group = new_size_group.sort_values()\n",
    "for i in new_size_group:\n",
    "    print(i)"
   ]
  },
  {
   "cell_type": "code",
   "execution_count": null,
   "metadata": {},
   "outputs": [],
   "source": []
  }
 ],
 "metadata": {
  "kernelspec": {
   "display_name": "Python 3",
   "language": "python",
   "name": "python3"
  },
  "language_info": {
   "codemirror_mode": {
    "name": "ipython",
    "version": 3
   },
   "file_extension": ".py",
   "mimetype": "text/x-python",
   "name": "python",
   "nbconvert_exporter": "python",
   "pygments_lexer": "ipython3",
   "version": "3.8.5"
  }
 },
 "nbformat": 4,
 "nbformat_minor": 4
}
